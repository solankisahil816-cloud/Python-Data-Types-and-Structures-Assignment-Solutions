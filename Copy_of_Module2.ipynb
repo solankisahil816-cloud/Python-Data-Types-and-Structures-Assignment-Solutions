{
  "nbformat": 4,
  "nbformat_minor": 0,
  "metadata": {
    "colab": {
      "provenance": []
    },
    "kernelspec": {
      "name": "python3",
      "display_name": "Python 3"
    },
    "language_info": {
      "name": "python"
    }
  },
  "cells": [
    {
      "cell_type": "markdown",
      "source": [
        "Python Data Types and Structures: Assignment Solutions\n",
        "\n",
        "1. What are data structures, and why are they important?\n",
        "Data structures are like organized containers that help us store and manage data efficiently. Think of them as different ways to arrange information so we can access, modify, or search through it quickly. They're super important because choosing the right data structure can make your programs much faster and easier to write!\n",
        "\n",
        "2. Explain the difference between mutable and immutable data types with examples.\n",
        "\n",
        "Mutable data types are like a whiteboard: you can change their contents after you've created them. Lists and dictionaries are great examples. If you have a list my_list = [1, 2, 3], you can change my_list[0] to 10 without creating a whole new list.\n",
        "\n",
        "Immutable data types are like a carved stone: once you've made them, you can't change their contents. If you want to modify them, you essentially have to create a brand new one. Strings and tuples are classic examples. If you have my_string = \"hello\", you can't change the 'h' to a 'j' directly; you'd have to make a new string like \"jello\".\n",
        "\n",
        "3. What are the main differences between lists and tuples in Python?\n",
        "The biggest difference is mutability:\n",
        "\n",
        "Lists are mutable (changeable). You can add, remove, or modify elements after creation. They use square brackets [].Tuples are immutable (unchangeable). Once created, you can't alter their elements. They use parentheses ().\n",
        "Because of this:\n",
        "\n",
        "Lists are great for collections that need to change over time (e.g., a shopping cart).\n",
        "\n",
        "Tuples are good for fixed collections or when you want to ensure data doesn't accidentally get altered (e.g., coordinates (x, y)).\n",
        "\n",
        "4. Describe how dictionaries store data.\n",
        "Dictionaries store data as key-value pairs. Imagine a real-world dictionary: each word (the key) has a definition (the value). In Python, keys must be unique and immutable (like strings or numbers), and values can be anything at all. They're unordered collections, meaning the order isn't guaranteed (though in modern Python, they often retain insertion order). You access values by their associated key, not by an index number. They use curly braces {}.\n",
        "\n",
        "5. Why might you use a set instead of a list in Python?\n",
        "\n",
        "You'd typically use a set when:\n",
        "\n",
        "You need to store only unique items: Sets automatically remove duplicates, so you don't have to worry about managing them.\n",
        "\n",
        "You need fast membership testing: Checking if an item is in a set is generally much faster than checking if it's in a list, especially for large collections.\n",
        "\n",
        "You need to perform mathematical set operations: Things like union, intersection, difference, and symmetric difference are built-in and very efficient for sets.\n",
        "\n",
        "6. What is a string in Python, and how is it different from a list?\n",
        "A string in Python is an ordered sequence of characters (like letters, numbers, symbols). It's used to represent text.\n",
        "The key differences from a list are:\n",
        "\n",
        "Elements: Strings contain only characters; lists can contain any type of data (numbers, other lists, etc.).\n",
        "\n",
        "Mutability: Strings are immutable (cannot be changed after creation); lists are mutable (can be changed).\n",
        "\n",
        "Purpose: Strings are for text manipulation; lists are for ordered collections of various items.\n",
        "\n",
        "7. How do tuples ensure data integrity in Python?\n",
        "Tuples ensure data integrity precisely because they are immutable. Once a tuple is created, its elements cannot be changed, added, or removed. This guarantees that the data stored within the tuple remains constant throughout the program's execution, preventing accidental modifications. This is great for data that should not be altered, like configuration settings, database records, or geographic coordinates.\n",
        "\n",
        "8. What is a hash table, and how does it relate to dictionaries in Python?\n",
        "A hash table is a fundamental data structure that allows for very fast (on average) storage and retrieval of data. It works by using a \"hash function\" to convert a key into an index in an array where the corresponding value is stored.\n",
        "Dictionaries in Python are internally implemented using hash tables. When you use a dictionary, Python hashes the key you provide to quickly find where the value is stored in memory. This is why dictionary lookups are so incredibly fast.\n",
        "\n",
        "9. Can lists contain different data types in Python?\n",
        "Yes, absolutely! Lists in Python are incredibly flexible and can contain elements of different data types within the same list. For example, my_diverse_list = [1, \"hello\", 3.14, True, [4, 5]] is a perfectly valid list.\n",
        "\n",
        "10. Explain why strings are immutable in Python.\n",
        "Strings are immutable in Python for several important reasons:\n",
        "\n",
        "Data Integrity: Once created, a string's content is guaranteed not to change, which is important for things like dictionary keys (which must be immutable).\n",
        "\n",
        "Efficiency: Immutability allows Python to optimize memory usage. If multiple variables point to the same string, Python only needs to store that string once.\n",
        "\n",
        "Security & Thread Safety: In multi-threaded environments, immutable objects are inherently thread-safe because no thread can modify them.\n",
        "\n",
        "Hashing: For strings to be used as dictionary keys (which require hashable objects), they must be immutable because their hash value must remain constant.\n",
        "\n",
        "11. What advantages do dictionaries offer over lists for certain tasks?\n",
        "Dictionaries shine when you need to:\n",
        "\n",
        "Access data by a meaningful key: Instead of remembering an index (like my_list[2]), you can use a descriptive key (like my_dict['username']).\n",
        "\n",
        "Store related pieces of information: They're perfect for representing objects or records (e.g., a person's details: {'name': 'Alice', 'age': 30}).\n",
        "\n",
        "Perform fast lookups: Retrieving a value using its key is generally much faster than searching for an item by value in a list, especially for large datasets.\n",
        "\n",
        "12. Describe a scenario where using a tuple would be preferable over a list.\n",
        "A tuple would be preferable over a list when you have a collection of items that should not change and have a fixed number of elements, or if they represent a single, unchangeable entity.\n",
        "Scenario: Storing geographic coordinates (latitude, longitude) or RGB color values.\n",
        "coordinates = (34.0522, -118.2437)\n",
        "color_red = (255, 0, 0)\n",
        "These values are intrinsically linked and shouldn't be altered independently once defined. Using a tuple ensures their integrity.\n",
        "13. How do sets handle duplicate values in Python?\n",
        "Sets are designed to contain only unique elements. If you try to add a duplicate value to a set, it simply ignores the new value, and the set remains unchanged. It effectively \"de-duplicates\" your collection automatically.\n",
        "\n",
        "14. How does the “in” keyword work differently for lists and dictionaries?\n",
        "The in keyword checks for membership, but what it checks differs:\n",
        "\n",
        "For lists: item in my_list checks if item exists as one of the elements within the list.\n",
        "\n",
        "For dictionaries: key in my_dictionary checks if key exists as one of the keys within the dictionary. It does not directly check for values. (To check for values, you'd use value in my_dictionary.values()).\n",
        "\n",
        "15. Can you modify the elements of a tuple? Explain why or why not.\n",
        "\n",
        "No, you cannot modify the elements of a tuple after it has been created. Tuples are immutable data types. If you try to change an element (e.g., my_tuple[0] = new_value), Python will raise a TypeError. The only way to \"change\" a tuple is to create a completely new tuple with the desired modifications.\n",
        "\n",
        "16. What is a nested dictionary, and give an example of its use case?\n",
        "A nested dictionary is a dictionary where some of its values are themselves other dictionaries. It's a way to store hierarchical or more complex structured data.\n",
        "Use Case: Storing information about multiple users, where each user has various details:\n",
        "users = {\n",
        "    \"john_doe\": {\n",
        "        \"name\": \"John Doe\",\n",
        "        \"age\": 30,\n",
        "        \"email\": \"john@example.com\",\n",
        "        \"roles\": [\"admin\", \"editor\"]\n",
        "    },\n",
        "    \"jane_smith\": {\n",
        "        \"name\": \"Jane Smith\",\n",
        "        \"age\": 25,\n",
        "        \"email\": \"jane@example.com\",\n",
        "        \"roles\": [\"viewer\"]\n",
        "    }\n",
        "}\n",
        "# Accessing John's age: users[\"john_doe\"][\"age\"]\n",
        "\n",
        "17. Describe the time complexity of accessing elements in a dictionary.\n",
        "Accessing elements in a dictionary (looking up a value by its key) has an average time complexity of O(1), which means \"constant time.\" This is incredibly fast and efficient because, thanks to hash tables, the time it takes to find an item doesn't significantly increase as the dictionary gets larger. In the worst-case scenario (due to hash collisions), it can degrade to O(n), but this is rare.\n",
        "\n",
        "18. In what situations are lists preferred\n",
        "over dictionaries?\n",
        "Lists are preferred when:\n",
        "\n",
        "The order of elements matters: Lists maintain the order in which items are added.\n",
        "\n",
        "You need to access elements by numerical index: If you want to retrieve the 1st, 2nd, or nth item, lists are perfect.\n",
        "\n",
        "You need to store a collection of items without unique identifiers: If the items are just a sequence without specific \"names\" for each, a list is suitable.\n",
        "\n",
        "You frequently add/remove elements from the ends: append() and pop() are efficient for lists.\n",
        "\n",
        "You need to store duplicate elements: Lists allow duplicates, whereas dictionaries (keys) and sets do not.\n",
        "\n",
        "19. Why are dictionaries considered unordered, and how does that affect data retrieval?\n",
        "\n",
        "Historically, dictionaries were considered unordered because their internal implementation (hash tables) optimized for fast lookups rather than maintaining insertion order. The order in which you inserted items was not guaranteed to be the order in which you'd retrieve them.\n",
        "In modern Python (from Python 3.7+), dictionaries do maintain insertion order. However, the conceptual understanding that you shouldn't rely on order for data retrieval remains important for portability to older Python versions or other languages. When retrieving data, you always access it by its key, not by an index or position, regardless of its internal order.\n",
        "\n",
        "20. Explain the difference between a list and a dictionary in terms of data retrieval.\n",
        "List Data Retrieval: You retrieve data from a list using a numerical index. For example, my_list[0] gives you the first item, my_list[1] gives you the second, and so on. The position matters.\n",
        "Dictionary Data Retrieval: You retrieve data from a dictionary using a key. For example, my_dict['name'] gives you the value associated with the key 'name'. The key's name is what matters, not its position."
      ],
      "metadata": {
        "id": "oNPpNiXE5bwI"
      }
    },
    {
      "cell_type": "code",
      "source": [
        "# Practical\n",
        "#Ans : 1\n",
        "my_name = \"Alice\" # Feel free to put your name here!\n",
        "print(my_name)"
      ],
      "metadata": {
        "colab": {
          "base_uri": "https://localhost:8080/"
        },
        "id": "y6EfE8DZ8zdp",
        "outputId": "b1dda2de-a1aa-4a1f-ccd6-b4c947e2abb6"
      },
      "execution_count": null,
      "outputs": [
        {
          "output_type": "stream",
          "name": "stdout",
          "text": [
            "Alice\n"
          ]
        }
      ]
    },
    {
      "cell_type": "code",
      "source": [
        "#ans 2\n",
        "my_string = \"Hello World\"\n",
        "length_of_string = len(my_string)\n",
        "print(f\"The length of '{my_string}' is: {length_of_string}\")"
      ],
      "metadata": {
        "colab": {
          "base_uri": "https://localhost:8080/"
        },
        "id": "IvVK5Ya89JtQ",
        "outputId": "c0a69251-ee31-4e05-9d99-c46ad101e5a1"
      },
      "execution_count": null,
      "outputs": [
        {
          "output_type": "stream",
          "name": "stdout",
          "text": [
            "The length of 'Hello World' is: 11\n"
          ]
        }
      ]
    },
    {
      "cell_type": "code",
      "source": [
        "# Ans 3\n",
        "full_string = \"Python Programming\"\n",
        "first_three_chars = full_string[0:3] # Slicing from index 0 up to (but not including) index 3\n",
        "print(first_three_chars)"
      ],
      "metadata": {
        "colab": {
          "base_uri": "https://localhost:8080/"
        },
        "id": "20oDiHGL9Qt5",
        "outputId": "c957ee4f-557e-49f7-af9e-a210fa73cfd8"
      },
      "execution_count": null,
      "outputs": [
        {
          "output_type": "stream",
          "name": "stdout",
          "text": [
            "Pyt\n"
          ]
        }
      ]
    },
    {
      "cell_type": "code",
      "source": [
        "#ans 4\n",
        "lower_string = \"hello\"\n",
        "upper_string = lower_string.upper()\n",
        "print(upper_string)"
      ],
      "metadata": {
        "colab": {
          "base_uri": "https://localhost:8080/"
        },
        "id": "flKDBu4g9Y7_",
        "outputId": "a213f699-f35d-4c48-aec0-1901f52f0c53"
      },
      "execution_count": null,
      "outputs": [
        {
          "output_type": "stream",
          "name": "stdout",
          "text": [
            "HELLO\n"
          ]
        }
      ]
    },
    {
      "cell_type": "code",
      "source": [
        "# ans 5\n",
        "sentence = \"I like apple\"\n",
        "new_sentence = sentence.replace(\"apple\", \"orange\")\n",
        "print(new_sentence)"
      ],
      "metadata": {
        "colab": {
          "base_uri": "https://localhost:8080/"
        },
        "id": "WXenHaKB9j00",
        "outputId": "6dafc98e-c4f5-4dfc-ba19-45f2186fc7f9"
      },
      "execution_count": null,
      "outputs": [
        {
          "output_type": "stream",
          "name": "stdout",
          "text": [
            "I like orange\n"
          ]
        }
      ]
    },
    {
      "cell_type": "code",
      "source": [
        "# Ans 6\n",
        "numbers_list = [1, 2, 3, 4, 5]\n",
        "print(numbers_list)"
      ],
      "metadata": {
        "colab": {
          "base_uri": "https://localhost:8080/"
        },
        "id": "8Ni1V1Io9tQ4",
        "outputId": "533b122e-dba7-4e42-ed3e-0ed9890fbfb7"
      },
      "execution_count": null,
      "outputs": [
        {
          "output_type": "stream",
          "name": "stdout",
          "text": [
            "[1, 2, 3, 4, 5]\n"
          ]
        }
      ]
    },
    {
      "cell_type": "code",
      "source": [
        "# Ans 7\n",
        "my_list = [1, 2, 3, 4]\n",
        "my_list.append(10) # 'append' adds an item to the end of the list\n",
        "print(my_list)"
      ],
      "metadata": {
        "colab": {
          "base_uri": "https://localhost:8080/"
        },
        "id": "ErJMT_XB90z3",
        "outputId": "78c5ee4e-6ba6-4c5e-ce9e-db1aad3e2643"
      },
      "execution_count": null,
      "outputs": [
        {
          "output_type": "stream",
          "name": "stdout",
          "text": [
            "[1, 2, 3, 4, 10]\n"
          ]
        }
      ]
    },
    {
      "cell_type": "code",
      "source": [
        "# Ans 8\n",
        "my_list = [1, 2, 3, 4, 5]\n",
        "my_list.remove(3) # 'remove' takes the value you want to remove\n",
        "print(my_list)"
      ],
      "metadata": {
        "colab": {
          "base_uri": "https://localhost:8080/"
        },
        "id": "9e08hnGE9_pU",
        "outputId": "e9c4ae3f-e47f-4179-b9be-5e0598ce6c38"
      },
      "execution_count": null,
      "outputs": [
        {
          "output_type": "stream",
          "name": "stdout",
          "text": [
            "[1, 2, 4, 5]\n"
          ]
        }
      ]
    },
    {
      "cell_type": "code",
      "source": [],
      "metadata": {
        "id": "-HzDxhgD-ZWT"
      },
      "execution_count": null,
      "outputs": []
    },
    {
      "cell_type": "code",
      "source": [],
      "metadata": {
        "id": "7b3RYu2q-aLh"
      },
      "execution_count": null,
      "outputs": []
    },
    {
      "cell_type": "code",
      "source": [
        "# Ans 9\n",
        "letters_list = ['a', 'b', 'c', 'd']\n",
        "second_element = letters_list[1] # Remember: lists are 0-indexed, so the second element is at index 1\n",
        "print(second_element)"
      ],
      "metadata": {
        "colab": {
          "base_uri": "https://localhost:8080/"
        },
        "id": "fhbYngWI-HEF",
        "outputId": "03ba63f5-c9f2-4b87-a56c-9195b98841b6"
      },
      "execution_count": null,
      "outputs": [
        {
          "output_type": "stream",
          "name": "stdout",
          "text": [
            "b\n"
          ]
        }
      ]
    },
    {
      "cell_type": "code",
      "source": [
        "# Ans 10\n",
        "original_list = [10, 20, 30, 40, 50]\n",
        "original_list.reverse() # The 'reverse()' method modifies the list in place\n",
        "print(original_list)\n",
        "\n",
        "# Alternatively, you can create a new reversed list without changing the original:\n",
        "# reversed_list_new = original_list[::-1]\n",
        "# print(reversed_list_new)"
      ],
      "metadata": {
        "colab": {
          "base_uri": "https://localhost:8080/"
        },
        "id": "S_cXo5bS-Pfm",
        "outputId": "8a0eb14d-52a0-4084-f3f3-f4334b2022ee"
      },
      "execution_count": null,
      "outputs": [
        {
          "output_type": "stream",
          "name": "stdout",
          "text": [
            "[50, 40, 30, 20, 10]\n"
          ]
        }
      ]
    },
    {
      "cell_type": "code",
      "source": [
        "# Ans 11\n",
        "\n",
        "my_tuple = (100, 200, 300)\n",
        "print(my_tuple)"
      ],
      "metadata": {
        "colab": {
          "base_uri": "https://localhost:8080/"
        },
        "id": "vnw3axnO-bTM",
        "outputId": "b76543f9-6dbc-4770-928a-d445e05a74b0"
      },
      "execution_count": null,
      "outputs": [
        {
          "output_type": "stream",
          "name": "stdout",
          "text": [
            "(100, 200, 300)\n"
          ]
        }
      ]
    },
    {
      "cell_type": "code",
      "source": [
        "# ans 12\n",
        "colors_tuple = ('red', 'green', 'blue', 'yellow')\n",
        "second_to_last = colors_tuple[-2] # Negative indexing counts from the end (-1 is the last item)\n",
        "print(second_to_last)"
      ],
      "metadata": {
        "colab": {
          "base_uri": "https://localhost:8080/"
        },
        "id": "fndsZrzL_CsY",
        "outputId": "3312a347-008c-461c-d770-4522d5bfd0cc"
      },
      "execution_count": null,
      "outputs": [
        {
          "output_type": "stream",
          "name": "stdout",
          "text": [
            "blue\n"
          ]
        }
      ]
    },
    {
      "cell_type": "code",
      "source": [
        "# ans 13\n",
        "numbers_tuple = (10, 20, 5, 15)\n",
        "minimum_number = min(numbers_tuple) # The built-in min() function works great for this\n",
        "print(minimum_number)"
      ],
      "metadata": {
        "colab": {
          "base_uri": "https://localhost:8080/"
        },
        "id": "VKojPQkH_JBJ",
        "outputId": "8e5d620b-052d-4e51-cef0-2bd15f5b7e28"
      },
      "execution_count": null,
      "outputs": [
        {
          "output_type": "stream",
          "name": "stdout",
          "text": [
            "5\n"
          ]
        }
      ]
    },
    {
      "cell_type": "code",
      "source": [
        "# ans 14\n",
        "animals_tuple = ('dog', 'cat', 'rabbit')\n",
        "index_of_cat = animals_tuple.index(\"cat\") # The 'index()' method tells you where an element is\n",
        "print(index_of_cat)"
      ],
      "metadata": {
        "colab": {
          "base_uri": "https://localhost:8080/"
        },
        "id": "LSCYYw_a_OP7",
        "outputId": "7f7958c0-732d-495a-a3ad-a88f7add08ef"
      },
      "execution_count": null,
      "outputs": [
        {
          "output_type": "stream",
          "name": "stdout",
          "text": [
            "1\n"
          ]
        }
      ]
    },
    {
      "cell_type": "code",
      "source": [
        "# ans 15\n",
        "fruits_tuple = (\"apple\", \"banana\", \"grape\")\n",
        "check_kiwi = \"kiwi\" in fruits_tuple # This returns True or False\n",
        "print(f\"Is 'kiwi' in the tuple? {check_kiwi}\")"
      ],
      "metadata": {
        "colab": {
          "base_uri": "https://localhost:8080/"
        },
        "id": "2IAgVuVa_U0I",
        "outputId": "e0f12eb0-6812-4ed7-8d25-81b6ff0eaa55"
      },
      "execution_count": null,
      "outputs": [
        {
          "output_type": "stream",
          "name": "stdout",
          "text": [
            "Is 'kiwi' in the tuple? False\n"
          ]
        }
      ]
    },
    {
      "cell_type": "code",
      "source": [
        "16\n",
        "fruits_with_kiwi = (\"apple\", \"banana\", \"kiwi\")\n",
        "check_kiwi_again = \"kiwi\" in fruits_with_kiwi\n",
        "print(f\"Is 'kiwi' in the second tuple? {check_kiwi_again}\")"
      ],
      "metadata": {
        "colab": {
          "base_uri": "https://localhost:8080/"
        },
        "id": "T2ZCQx-e_44C",
        "outputId": "89de5cb1-a8ee-424d-df33-667100f1cd6c"
      },
      "execution_count": null,
      "outputs": [
        {
          "output_type": "stream",
          "name": "stdout",
          "text": [
            "Is 'kiwi' in the second tuple? True\n"
          ]
        }
      ]
    },
    {
      "cell_type": "code",
      "source": [
        "# 17\n",
        "my_set = {'a', 'b', 'c'}\n",
        "print(my_set)\n",
        "\n",
        "numbers_set = {1, 2, 3, 4, 5}\n",
        "numbers_set.clear() # The 'clear()' method removes all elements\n",
        "print(numbers_set)"
      ],
      "metadata": {
        "colab": {
          "base_uri": "https://localhost:8080/"
        },
        "id": "Dxp8KshoADba",
        "outputId": "8d986ae1-42dd-43f9-ebd3-be58265f5e6f"
      },
      "execution_count": null,
      "outputs": [
        {
          "output_type": "stream",
          "name": "stdout",
          "text": [
            "{'b', 'c', 'a'}\n",
            "set()\n"
          ]
        }
      ]
    },
    {
      "cell_type": "code",
      "source": [
        "#18\n",
        "my_set_to_modify = {1, 2, 3, 4}\n",
        "my_set_to_modify.remove(4) # 'remove()' takes the element you want gone\n",
        "print(my_set_to_modify)"
      ],
      "metadata": {
        "colab": {
          "base_uri": "https://localhost:8080/"
        },
        "id": "U5mjyfHIAI0h",
        "outputId": "437bf413-168a-4cf3-f627-206b08b35dfe"
      },
      "execution_count": null,
      "outputs": [
        {
          "output_type": "stream",
          "name": "stdout",
          "text": [
            "{1, 2, 3}\n"
          ]
        }
      ]
    },
    {
      "cell_type": "code",
      "source": [
        "#19\n",
        "set1 = {1, 2, 3}\n",
        "set2 = {3, 4, 5}\n",
        "union_set = set1.union(set2) # The 'union()' method combines unique elements from both sets\n",
        "print(union_set)"
      ],
      "metadata": {
        "colab": {
          "base_uri": "https://localhost:8080/"
        },
        "id": "IiJ8YwN0APrP",
        "outputId": "1d05ade7-73b0-44ad-9097-dd395c91ab5e"
      },
      "execution_count": null,
      "outputs": [
        {
          "output_type": "stream",
          "name": "stdout",
          "text": [
            "{1, 2, 3, 4, 5}\n"
          ]
        }
      ]
    },
    {
      "cell_type": "code",
      "source": [
        "#20\n",
        "set_a = {1, 2, 3}\n",
        "set_b = {2, 3, 4}\n",
        "intersection_set = set_a.intersection(set_b) # 'intersection()' finds common elements\n",
        "print(intersection_set)"
      ],
      "metadata": {
        "colab": {
          "base_uri": "https://localhost:8080/"
        },
        "id": "3Pzkz-7PAVpI",
        "outputId": "87f2e6d7-733e-4e41-d2d8-e1a337682c79"
      },
      "execution_count": null,
      "outputs": [
        {
          "output_type": "stream",
          "name": "stdout",
          "text": [
            "{2, 3}\n"
          ]
        }
      ]
    },
    {
      "cell_type": "code",
      "source": [
        "#21\n",
        "person_details = {\n",
        "    \"name\": \"Bob\",\n",
        "    \"age\": 28,\n",
        "    \"city\": \"London\"\n",
        "}\n",
        "print(person_details)"
      ],
      "metadata": {
        "colab": {
          "base_uri": "https://localhost:8080/"
        },
        "id": "Z9oz5srKAfO3",
        "outputId": "359ecc29-b8f2-4ad6-9e44-8b50da30e809"
      },
      "execution_count": null,
      "outputs": [
        {
          "output_type": "stream",
          "name": "stdout",
          "text": [
            "{'name': 'Bob', 'age': 28, 'city': 'London'}\n"
          ]
        }
      ]
    },
    {
      "cell_type": "code",
      "source": [
        "#22\n",
        "john_info = {'name': 'John', 'age': 25}\n",
        "john_info[\"country\"] = \"USA\" # Simply assign a value to a new key\n",
        "print(john_info)"
      ],
      "metadata": {
        "id": "XClk1KsrAlyW"
      },
      "execution_count": null,
      "outputs": []
    },
    {
      "cell_type": "code",
      "source": [
        "#23\n",
        "alice_info = {'name': 'Alice', 'age': 30}\n",
        "alice_name = alice_info[\"name\"] # Access values using their keys in square brackets\n",
        "print(alice_name)"
      ],
      "metadata": {
        "colab": {
          "base_uri": "https://localhost:8080/"
        },
        "id": "dRbWqY7UAsY_",
        "outputId": "e4410ae5-486e-4a48-9c00-39c2c3e16436"
      },
      "execution_count": null,
      "outputs": [
        {
          "output_type": "stream",
          "name": "stdout",
          "text": [
            "Alice\n"
          ]
        }
      ]
    },
    {
      "cell_type": "code",
      "source": [
        "#24\n",
        "bob_info = {'name': 'Bob', 'age': 22, 'city': 'New York'}\n",
        "del bob_info[\"age\"] # The 'del' keyword is used to remove a key-value pair\n",
        "print(bob_info)"
      ],
      "metadata": {
        "colab": {
          "base_uri": "https://localhost:8080/"
        },
        "id": "rID3GxBhA0Zp",
        "outputId": "647b117c-1ed8-4bcf-af39-0e86ba47061e"
      },
      "execution_count": null,
      "outputs": [
        {
          "output_type": "stream",
          "name": "stdout",
          "text": [
            "{'name': 'Bob', 'city': 'New York'}\n"
          ]
        }
      ]
    },
    {
      "cell_type": "code",
      "source": [
        "#25\n",
        "paris_info = {'name': 'Alice', 'city': 'Paris'}\n",
        "key_exists = \"city\" in paris_info # The 'in' keyword checks if a key is present\n",
        "print(f\"Does 'city' exist as a key? {key_exists}\")"
      ],
      "metadata": {
        "colab": {
          "base_uri": "https://localhost:8080/"
        },
        "id": "O7Dxaj3cA6tV",
        "outputId": "2523c7c8-85e3-4a2d-fce2-457fab6a55b5"
      },
      "execution_count": null,
      "outputs": [
        {
          "output_type": "stream",
          "name": "stdout",
          "text": [
            "Does 'city' exist as a key? True\n"
          ]
        }
      ]
    },
    {
      "cell_type": "code",
      "source": [
        "#26\n",
        "my_sample_list = [10, 20, \"hello\"]\n",
        "my_sample_tuple = (True, False, True)\n",
        "my_sample_dictionary = {\"item1\": 1, \"item2\": 2}\n",
        "\n",
        "print(\"My List:\", my_sample_list)\n",
        "print(\"My Tuple:\", my_sample_tuple)\n",
        "print(\"My Dictionary:\", my_sample_dictionary)"
      ],
      "metadata": {
        "colab": {
          "base_uri": "https://localhost:8080/"
        },
        "id": "LJM95cymBDtT",
        "outputId": "1378eb94-f0dd-4a81-977a-827515c45224"
      },
      "execution_count": null,
      "outputs": [
        {
          "output_type": "stream",
          "name": "stdout",
          "text": [
            "My List: [10, 20, 'hello']\n",
            "My Tuple: (True, False, True)\n",
            "My Dictionary: {'item1': 1, 'item2': 2}\n"
          ]
        }
      ]
    },
    {
      "cell_type": "code",
      "source": [
        "#27\n",
        "import random\n",
        "\n",
        "random_numbers = [random.randint(1, 100) for _ in range(5)] # Generate 5 random numbers\n",
        "print(f\"Original random list: {random_numbers}\")\n",
        "\n",
        "random_numbers.sort() # Sorts the list in ascending order (modifies in place)\n",
        "print(f\"Sorted list: {random_numbers}\")\n",
        "\n",
        "# Alternative for sorting without changing original:\n",
        "# sorted_list = sorted(random_numbers)\n",
        "# print(f\"Sorted copy: {sorted_list}\")"
      ],
      "metadata": {
        "colab": {
          "base_uri": "https://localhost:8080/"
        },
        "id": "Y96MPZpeBKU-",
        "outputId": "62814faa-7b4d-485b-fa45-fb34667b936e"
      },
      "execution_count": null,
      "outputs": [
        {
          "output_type": "stream",
          "name": "stdout",
          "text": [
            "Original random list: [29, 83, 32, 18, 11]\n",
            "Sorted list: [11, 18, 29, 32, 83]\n"
          ]
        }
      ]
    },
    {
      "cell_type": "code",
      "source": [
        "#28\n",
        "string_list = [\"apple\", \"banana\", \"cherry\", \"date\", \"elderberry\"]\n",
        "third_index_element = string_list[3] # Index 3 is actually the fourth element\n",
        "print(third_index_element)"
      ],
      "metadata": {
        "colab": {
          "base_uri": "https://localhost:8080/"
        },
        "id": "PP1r1kAuBT3v",
        "outputId": "f8398f90-c848-41c8-9adb-ead5ebc13120"
      },
      "execution_count": null,
      "outputs": [
        {
          "output_type": "stream",
          "name": "stdout",
          "text": [
            "date\n"
          ]
        }
      ]
    },
    {
      "cell_type": "code",
      "source": [
        "#29\n",
        "dict1 = {\"name\": \"Charlie\", \"age\": 35}\n",
        "dict2 = {\"city\": \"Berlin\", \"occupation\": \"Engineer\"}\n",
        "\n",
        "# Using the ** operator (Python 3.5+)\n",
        "combined_dict = {**dict1, **dict2}\n",
        "print(combined_dict)\n",
        "\n",
        "# Alternative using update() method\n",
        "# dict1.update(dict2)\n",
        "# print(dict1) # This modifies dict1 in place"
      ],
      "metadata": {
        "colab": {
          "base_uri": "https://localhost:8080/"
        },
        "id": "lPmktlJrBZ9q",
        "outputId": "2a10f4db-a655-43c4-8937-820d8ad202bd"
      },
      "execution_count": null,
      "outputs": [
        {
          "output_type": "stream",
          "name": "stdout",
          "text": [
            "{'name': 'Charlie', 'age': 35, 'city': 'Berlin', 'occupation': 'Engineer'}\n"
          ]
        }
      ]
    },
    {
      "cell_type": "code",
      "source": [
        "#30\n",
        "my_string_list = [\"red\", \"blue\", \"green\", \"red\", \"yellow\", \"blue\"]\n",
        "print(f\"Original list with duplicates: {my_string_list}\")\n",
        "\n",
        "my_set_from_list = set(my_string_list) # Just pass the list to the set() constructor\n",
        "print(f\"Converted to a set (duplicates removed): {my_set_from_list}\")"
      ],
      "metadata": {
        "colab": {
          "base_uri": "https://localhost:8080/"
        },
        "id": "hHDrVmYwBfxT",
        "outputId": "5bdecbee-bef3-4169-a901-903fb7d2b63e"
      },
      "execution_count": null,
      "outputs": [
        {
          "output_type": "stream",
          "name": "stdout",
          "text": [
            "Original list with duplicates: ['red', 'blue', 'green', 'red', 'yellow', 'blue']\n",
            "Converted to a set (duplicates removed): {'blue', 'yellow', 'green', 'red'}\n"
          ]
        }
      ]
    }
  ]
}